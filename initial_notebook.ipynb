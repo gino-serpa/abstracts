{
 "cells": [
  {
   "cell_type": "code",
   "execution_count": 16,
   "id": "577816fd",
   "metadata": {
    "ExecuteTime": {
     "end_time": "2023-05-07T23:04:53.833243Z",
     "start_time": "2023-05-07T23:04:53.338233Z"
    }
   },
   "outputs": [],
   "source": [
    "import pandas as pd\n",
    "from pathlib import Path"
   ]
  },
  {
   "cell_type": "code",
   "execution_count": 17,
   "id": "6a67ecab",
   "metadata": {
    "ExecuteTime": {
     "end_time": "2023-05-07T23:04:54.570637Z",
     "start_time": "2023-05-07T23:04:54.567756Z"
    }
   },
   "outputs": [],
   "source": [
    "filenames = [Path(\"../data/arxiv_data.csv\"), \n",
    "             Path(\"../data/arxiv_data_210930-054931.csv\")]"
   ]
  },
  {
   "cell_type": "code",
   "execution_count": 18,
   "id": "528f8326",
   "metadata": {
    "ExecuteTime": {
     "end_time": "2023-05-07T23:04:55.556214Z",
     "start_time": "2023-05-07T23:04:55.552826Z"
    }
   },
   "outputs": [
    {
     "data": {
      "text/plain": [
       "True"
      ]
     },
     "execution_count": 18,
     "metadata": {},
     "output_type": "execute_result"
    }
   ],
   "source": [
    "filenames[1].exists()"
   ]
  },
  {
   "cell_type": "code",
   "execution_count": 23,
   "id": "6fffb334",
   "metadata": {
    "ExecuteTime": {
     "end_time": "2023-05-07T23:05:20.266588Z",
     "start_time": "2023-05-07T23:05:19.885761Z"
    }
   },
   "outputs": [],
   "source": [
    "df=pd.read_csv(filenames[0])"
   ]
  },
  {
   "cell_type": "code",
   "execution_count": 24,
   "id": "ca0ff523",
   "metadata": {
    "ExecuteTime": {
     "end_time": "2023-05-07T23:05:21.327309Z",
     "start_time": "2023-05-07T23:05:21.323467Z"
    }
   },
   "outputs": [
    {
     "data": {
      "text/plain": [
       "51774"
      ]
     },
     "execution_count": 24,
     "metadata": {},
     "output_type": "execute_result"
    }
   ],
   "source": [
    "len(df)"
   ]
  },
  {
   "cell_type": "code",
   "execution_count": 26,
   "id": "d9aa997d",
   "metadata": {
    "ExecuteTime": {
     "end_time": "2023-05-07T23:05:31.103908Z",
     "start_time": "2023-05-07T23:05:31.093859Z"
    }
   },
   "outputs": [
    {
     "data": {
      "text/plain": [
       "Index(['titles', 'summaries', 'terms'], dtype='object')"
      ]
     },
     "execution_count": 26,
     "metadata": {},
     "output_type": "execute_result"
    }
   ],
   "source": [
    "df.columns"
   ]
  },
  {
   "cell_type": "code",
   "execution_count": 27,
   "id": "45bd3ddb",
   "metadata": {
    "ExecuteTime": {
     "end_time": "2023-05-07T23:06:38.639887Z",
     "start_time": "2023-05-07T23:06:38.622731Z"
    }
   },
   "outputs": [
    {
     "data": {
      "text/html": [
       "<div>\n",
       "<style scoped>\n",
       "    .dataframe tbody tr th:only-of-type {\n",
       "        vertical-align: middle;\n",
       "    }\n",
       "\n",
       "    .dataframe tbody tr th {\n",
       "        vertical-align: top;\n",
       "    }\n",
       "\n",
       "    .dataframe thead th {\n",
       "        text-align: right;\n",
       "    }\n",
       "</style>\n",
       "<table border=\"1\" class=\"dataframe\">\n",
       "  <thead>\n",
       "    <tr style=\"text-align: right;\">\n",
       "      <th></th>\n",
       "      <th>titles</th>\n",
       "      <th>summaries</th>\n",
       "      <th>terms</th>\n",
       "    </tr>\n",
       "  </thead>\n",
       "  <tbody>\n",
       "    <tr>\n",
       "      <th>0</th>\n",
       "      <td>Survey on Semantic Stereo Matching / Semantic ...</td>\n",
       "      <td>Stereo matching is one of the widely used tech...</td>\n",
       "      <td>['cs.CV', 'cs.LG']</td>\n",
       "    </tr>\n",
       "    <tr>\n",
       "      <th>1</th>\n",
       "      <td>FUTURE-AI: Guiding Principles and Consensus Re...</td>\n",
       "      <td>The recent advancements in artificial intellig...</td>\n",
       "      <td>['cs.CV', 'cs.AI', 'cs.LG']</td>\n",
       "    </tr>\n",
       "    <tr>\n",
       "      <th>2</th>\n",
       "      <td>Enforcing Mutual Consistency of Hard Regions f...</td>\n",
       "      <td>In this paper, we proposed a novel mutual cons...</td>\n",
       "      <td>['cs.CV', 'cs.AI']</td>\n",
       "    </tr>\n",
       "    <tr>\n",
       "      <th>3</th>\n",
       "      <td>Parameter Decoupling Strategy for Semi-supervi...</td>\n",
       "      <td>Consistency training has proven to be an advan...</td>\n",
       "      <td>['cs.CV']</td>\n",
       "    </tr>\n",
       "    <tr>\n",
       "      <th>4</th>\n",
       "      <td>Background-Foreground Segmentation for Interio...</td>\n",
       "      <td>To ensure safety in automated driving, the cor...</td>\n",
       "      <td>['cs.CV', 'cs.LG']</td>\n",
       "    </tr>\n",
       "  </tbody>\n",
       "</table>\n",
       "</div>"
      ],
      "text/plain": [
       "                                              titles  \\\n",
       "0  Survey on Semantic Stereo Matching / Semantic ...   \n",
       "1  FUTURE-AI: Guiding Principles and Consensus Re...   \n",
       "2  Enforcing Mutual Consistency of Hard Regions f...   \n",
       "3  Parameter Decoupling Strategy for Semi-supervi...   \n",
       "4  Background-Foreground Segmentation for Interio...   \n",
       "\n",
       "                                           summaries  \\\n",
       "0  Stereo matching is one of the widely used tech...   \n",
       "1  The recent advancements in artificial intellig...   \n",
       "2  In this paper, we proposed a novel mutual cons...   \n",
       "3  Consistency training has proven to be an advan...   \n",
       "4  To ensure safety in automated driving, the cor...   \n",
       "\n",
       "                         terms  \n",
       "0           ['cs.CV', 'cs.LG']  \n",
       "1  ['cs.CV', 'cs.AI', 'cs.LG']  \n",
       "2           ['cs.CV', 'cs.AI']  \n",
       "3                    ['cs.CV']  \n",
       "4           ['cs.CV', 'cs.LG']  "
      ]
     },
     "execution_count": 27,
     "metadata": {},
     "output_type": "execute_result"
    }
   ],
   "source": [
    "df.head()"
   ]
  },
  {
   "cell_type": "code",
   "execution_count": null,
   "id": "5839fd18",
   "metadata": {},
   "outputs": [],
   "source": []
  }
 ],
 "metadata": {
  "kernelspec": {
   "display_name": "gino_venv",
   "language": "python",
   "name": "gino_venv"
  },
  "language_info": {
   "codemirror_mode": {
    "name": "ipython",
    "version": 3
   },
   "file_extension": ".py",
   "mimetype": "text/x-python",
   "name": "python",
   "nbconvert_exporter": "python",
   "pygments_lexer": "ipython3",
   "version": "3.9.13"
  }
 },
 "nbformat": 4,
 "nbformat_minor": 5
}
